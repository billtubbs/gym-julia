{
 "cells": [
  {
   "cell_type": "markdown",
   "metadata": {},
   "source": [
    "# Cart and Inverted Pendulum Simulation\n",
    "\n",
    "- This is a Julia version of the system used in my Open AI Gym environment:\n",
    "https://github.com/billtubbs/gym-CartPole-bt-v0/\n",
    "- Both mimic the system used in Steve Brunton's Control Bootcamp video lecture series."
   ]
  },
  {
   "cell_type": "code",
   "execution_count": 7,
   "metadata": {},
   "outputs": [],
   "source": [
    "using Printf\n",
    "using Test"
   ]
  },
  {
   "cell_type": "code",
   "execution_count": 8,
   "metadata": {},
   "outputs": [],
   "source": [
    "# Prepare directories\n",
    "plot_dir = \"plots\"\n",
    "data_dir = \"data\"\n",
    "\n",
    "for dir_path in [plot_dir, data_dir]\n",
    "    if ~isdir(dir_path)\n",
    "        mkdir(dir_path)\n",
    "    end\n",
    "end"
   ]
  },
  {
   "cell_type": "code",
   "execution_count": 16,
   "metadata": {},
   "outputs": [
    {
     "data": {
      "text/plain": [
       "cartpend_ss (generic function with 7 methods)"
      ]
     },
     "execution_count": 16,
     "metadata": {},
     "output_type": "execute_result"
    }
   ],
   "source": [
    "function cartpend_dydt(t, y, m=1, M=5, L=2, g=-10, d=1, u=0)\n",
    "    \"\"\"Simulates the non-linear dynamics of a simple cart-pendulum system.\n",
    "    These non-linear ordinary differential equations (ODEs) return the\n",
    "    time-derivative at the current time given the current state of the\n",
    "    system.\n",
    "    Args:\n",
    "        t (float): Time variable - not used here but included for\n",
    "            compatibility with solvers like scipy.integrate.solve_ivp.\n",
    "        y (array): State vector. This should be an array of\n",
    "            shape (4, ) containing the current state of the system.\n",
    "            y[0] is the x-position of the cart, y[1] is the velocity\n",
    "            of the cart (dx/dt), y[2] is the angle of the pendulum\n",
    "            (theta) from the vertical in radians, and y[3] is the\n",
    "            rate of change of theta (dtheta/dt).\n",
    "        m (float): Mass of pendulum.\n",
    "        M (float): Mass of cart.\n",
    "        L (float): Length of pendulum.\n",
    "        g (float): Acceleration due to gravity.\n",
    "        d (float): Damping coefficient for friction between cart and\n",
    "            ground.\n",
    "        u (float): Force on cart in x-direction.\n",
    "    Returns:\n",
    "        dy (array): The time derivate of the state (dy/dt) as a\n",
    "            shape (4, ) array.\n",
    "    \"\"\"\n",
    "\n",
    "    # Temporary variables\n",
    "    Sy = sin(y[3])\n",
    "    Cy = cos(y[3])\n",
    "    mL = m*L\n",
    "    D = 1/(L*(M + m*(1 - Cy^2)))\n",
    "    b = mL*y[4]^2*Sy - d*y[2] + u\n",
    "    dy = zeros(4)\n",
    "\n",
    "    # Non-linear ordinary differential equations describing\n",
    "    # simple cart-pendulum system dynamics\n",
    "    dy[1] = y[2]\n",
    "    dy[2] = D*(-mL*g*Cy*Sy + L*b)\n",
    "    dy[3] = y[4]\n",
    "    dy[4] = D*((m + M)*g*Sy - Cy*b)\n",
    "\n",
    "    return dy\n",
    "end;\n",
    "\n",
    "function cartpend_ss(m=1, M=5, L=2, g=-10, d=1, s=1)\n",
    "    \"\"\"Calculates the linearized approximation of the cart-pendulum\n",
    "    system dynamics at either the vertical-up position (s=1) or\n",
    "    vertical-down position (s=-1).\n",
    "\n",
    "    Returns two arrays, A, B which are the system and input matrices\n",
    "    in the state-space system of differential equations:\n",
    "\n",
    "        x_dot = Ax + Bu\n",
    "\n",
    "    where x is the state vector, u is the control vector and x_dot\n",
    "    is the time derivative (dx/dt).\n",
    "\n",
    "    Args:\n",
    "        m (float): Mass of pendulum.\n",
    "        M (float): Mass of cart.\n",
    "        L (float): Length of pendulum.\n",
    "        g (float): Acceleration due to gravity.\n",
    "        d (float): Damping coefficient for friction between cart and\n",
    "            ground.\n",
    "        s (int): 1 for pendulum up position or -1 for down.\n",
    "\n",
    "    Returns:\n",
    "        dy (np.array): The time derivate of the state (dy/dt) as a\n",
    "            shape (4, ) array.\n",
    "    \"\"\"\n",
    "\n",
    "    A = [     0.0        1.0              0.0      0.0;\n",
    "                0       -d/M           -m*g/M      0.0;\n",
    "              0.0        0.0              0.0      1.0;\n",
    "              0.0 -s*d/(M*L) -s*(m+M)*g/(M*L)      0.0]\n",
    "\n",
    "    B = [        0.0;\n",
    "               1.0/M;\n",
    "                 0.0;\n",
    "         s*1.0/(M*L)]\n",
    "\n",
    "    return A, B\n",
    "end"
   ]
  },
  {
   "cell_type": "code",
   "execution_count": 10,
   "metadata": {},
   "outputs": [
    {
     "data": {
      "text/plain": [
       "0"
      ]
     },
     "execution_count": 10,
     "metadata": {},
     "output_type": "execute_result"
    }
   ],
   "source": [
    "# Fixed parameter values\n",
    "m = 1\n",
    "M = 5\n",
    "L = 2\n",
    "g = -10\n",
    "d = 1\n",
    "u = 0"
   ]
  },
  {
   "cell_type": "code",
   "execution_count": 20,
   "metadata": {},
   "outputs": [],
   "source": [
    "# Run tests\n",
    "y_test_values = Dict(\n",
    "    1 => [0, 0, 0, 0],  # Pendulum down position\n",
    "    2 => [0, 0, pi, 0],  # Pendulum up position\n",
    "    3 => [0, 0, 0, 0],\n",
    "    4 => [0, 0, pi, 0],\n",
    "    5 => [2.260914, 0.026066, 0.484470, -0.026480]\n",
    ");\n",
    "\n",
    "u_test_values = Dict(\n",
    "    1 => 0.,\n",
    "    2 => 0.,\n",
    "    3 => 1.,\n",
    "    4 => 1.,\n",
    "    5 => -0.59601\n",
    ");\n",
    "\n",
    "# dy values below calculated with MATLAB script from\n",
    "# Steven L. Brunton's Control Bootcamp videos\n",
    "expected_results = Dict(\n",
    "    1 => [0., 0., 0., 0.],\n",
    "    2 => [0., -2.44929360e-16, 0., -7.34788079e-16],\n",
    "    3 => [0., 0.2, 0., -0.1],\n",
    "    4 => [0., 0.2, 0. ,0.1],\n",
    "    5 => [0.026066, 0.670896, -0.026480, -2.625542]\n",
    ");"
   ]
  },
  {
   "cell_type": "code",
   "execution_count": 21,
   "metadata": {},
   "outputs": [
    {
     "name": "stdout",
     "output_type": "stream",
     "text": [
      "1\n",
      "2\n",
      "3\n",
      "4\n",
      "5\n"
     ]
    }
   ],
   "source": [
    "t = 0.0\n",
    "atol = 1e-6\n",
    "for i in 1:5\n",
    "    u = u_test_values[i]\n",
    "    y = y_test_values[i]\n",
    "    dy_calculated = cartpend_dydt(t, y, m, M, L, g, d, u)\n",
    "    dy_expected = expected_results[i]\n",
    "    @test maximum(abs.(dy_calculated - expected_results[i])) < atol\n",
    "end"
   ]
  },
  {
   "cell_type": "code",
   "execution_count": 27,
   "metadata": {},
   "outputs": [],
   "source": [
    "# K values below calculated with MATLAB script from\n",
    "# Steven L. Brunton's Control Bootcamp videos\n",
    "test_values = Dict(\n",
    "    5 => 1,  # Pendulum up position\n",
    "    6 => -1  # Pendulum down position\n",
    ")\n",
    "\n",
    "expected_results = Dict(\n",
    "    5 => ([0.0   1.0   0.0   0.0;\n",
    "           0.0  -0.2   2.0   0.0;\n",
    "           0.0   0.0   0.0   1.0;\n",
    "           0.0  -0.1   6.0   0.0],\n",
    "         [ 0.0;  0.2;  0.0;  0.1]),\n",
    "    6 => ([0.0   1.0   0.0   0.0;\n",
    "           0.0  -0.2   2.0   0.0;\n",
    "           0.0   0.0   0.0   1.0;\n",
    "           0.0   0.1  -6.0   0.0],\n",
    "         [ 0.0;  0.2;  0.0; -0.1])\n",
    ");"
   ]
  },
  {
   "cell_type": "code",
   "execution_count": 37,
   "metadata": {},
   "outputs": [
    {
     "data": {
      "text/plain": [
       "-1"
      ]
     },
     "execution_count": 37,
     "metadata": {},
     "output_type": "execute_result"
    }
   ],
   "source": [
    "i = 6\n",
    "s = test_values[i]"
   ]
  },
  {
   "cell_type": "code",
   "execution_count": 38,
   "metadata": {},
   "outputs": [
    {
     "data": {
      "text/plain": [
       "([0.0 1.0 0.0 0.0; 0.0 -0.2 2.0 0.0; 0.0 0.0 0.0 1.0; 0.0 0.1 -6.0 0.0], [0.0, 0.2, 0.0, -0.1])"
      ]
     },
     "execution_count": 38,
     "metadata": {},
     "output_type": "execute_result"
    }
   ],
   "source": [
    "A_calculated, B_calculated = cartpend_ss(m, M, L, g, d, s)"
   ]
  },
  {
   "cell_type": "code",
   "execution_count": 39,
   "metadata": {},
   "outputs": [
    {
     "data": {
      "text/plain": [
       "([0.0 1.0 0.0 0.0; 0.0 -0.2 2.0 0.0; 0.0 0.0 0.0 1.0; 0.0 0.1 -6.0 0.0], [0.0, 0.2, 0.0, -0.1])"
      ]
     },
     "execution_count": 39,
     "metadata": {},
     "output_type": "execute_result"
    }
   ],
   "source": [
    "A_expected, B_expected = expected_results[i]"
   ]
  },
  {
   "cell_type": "code",
   "execution_count": 40,
   "metadata": {},
   "outputs": [
    {
     "data": {
      "text/plain": [
       "true"
      ]
     },
     "execution_count": 40,
     "metadata": {},
     "output_type": "execute_result"
    }
   ],
   "source": [
    "maximum(abs.(A_calculated - A_expected)) < atol"
   ]
  },
  {
   "cell_type": "code",
   "execution_count": 41,
   "metadata": {},
   "outputs": [],
   "source": [
    "for i in 5:6\n",
    "    s = test_values[i]\n",
    "    A_calculated, B_calculated = cartpend_ss(m, M, L, g, d, s)\n",
    "    A_expected, B_expected = expected_results[i]\n",
    "    @test maximum(abs.(A_calculated - A_expected)) < atol\n",
    "    @test maximum(abs.(B_calculated - B_expected)) < atol\n",
    "end"
   ]
  },
  {
   "cell_type": "code",
   "execution_count": null,
   "metadata": {},
   "outputs": [],
   "source": []
  },
  {
   "cell_type": "raw",
   "metadata": {},
   "source": []
  }
 ],
 "metadata": {
  "kernelspec": {
   "display_name": "Julia 1.1.1",
   "language": "julia",
   "name": "julia-1.1"
  },
  "language_info": {
   "file_extension": ".jl",
   "mimetype": "application/julia",
   "name": "julia",
   "version": "1.1.1"
  }
 },
 "nbformat": 4,
 "nbformat_minor": 4
}
