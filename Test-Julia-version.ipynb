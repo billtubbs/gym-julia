{
 "cells": [
  {
   "cell_type": "markdown",
   "metadata": {},
   "source": [
    "# Cart and Inverted Pendulum Simulation\n",
    "\n",
    "- This is a Julia version of the system used in my Open AI Gym environment:\n",
    "https://github.com/billtubbs/gym-CartPole-bt-v0/\n",
    "- Both mimic the system used in Steve Brunton's Control Bootcamp video lecture series."
   ]
  },
  {
   "cell_type": "code",
   "execution_count": 1,
   "metadata": {},
   "outputs": [
    {
     "data": {
      "text/plain": [
       "Main.CartPoleBTEnv"
      ]
     },
     "execution_count": 1,
     "metadata": {},
     "output_type": "execute_result"
    }
   ],
   "source": [
    "include(\"CartPoleBTEnv.jl\")"
   ]
  },
  {
   "cell_type": "code",
   "execution_count": 2,
   "metadata": {},
   "outputs": [],
   "source": [
    "using .CartPoleBTEnv\n",
    "using DifferentialEquations"
   ]
  },
  {
   "cell_type": "code",
   "execution_count": 3,
   "metadata": {},
   "outputs": [],
   "source": [
    "# Prepare directories\n",
    "#plot_dir = \"plots\"\n",
    "#data_dir = \"data\"\n",
    "\n",
    "#for dir_path in [plot_dir, data_dir]\n",
    "#    if ~isdir(dir_path)\n",
    "#        mkdir(dir_path)\n",
    "#    end\n",
    "#end"
   ]
  },
  {
   "cell_type": "code",
   "execution_count": 4,
   "metadata": {},
   "outputs": [
    {
     "data": {
      "text/plain": [
       "4-element Array{Float64,1}:\n",
       " 0.0\n",
       " 0.0\n",
       " 0.0\n",
       " 0.0"
      ]
     },
     "execution_count": 4,
     "metadata": {},
     "output_type": "execute_result"
    }
   ],
   "source": [
    "gym = CartPole()\n",
    "gym.state = zeros(4)"
   ]
  },
  {
   "cell_type": "code",
   "execution_count": 5,
   "metadata": {},
   "outputs": [
    {
     "data": {
      "text/html": [
       "3 methods for generic function <b>cost_function</b>:<ul><li> cost_function(gym::<b>CartPole</b>) in Main.CartPoleBTEnv at <a href=\"https://github.com/billtubbs/gym-julia/tree/fb0d2ad63523a3effbf2c837041d35a98a52878f//CartPoleBTEnv.jl#L160\" target=\"_blank\">/Users/billtubbs/cartpole/CartPoleBTEnv.jl:160</a></li> <li> cost_function(gym::<b>CartPole</b>, state) in Main.CartPoleBTEnv at <a href=\"https://github.com/billtubbs/gym-julia/tree/fb0d2ad63523a3effbf2c837041d35a98a52878f//CartPoleBTEnv.jl#L161\" target=\"_blank\">/Users/billtubbs/cartpole/CartPoleBTEnv.jl:161</a></li> <li> cost_function(state, goal_state) in Main.CartPoleBTEnv at <a href=\"https://github.com/billtubbs/gym-julia/tree/fb0d2ad63523a3effbf2c837041d35a98a52878f//CartPoleBTEnv.jl#L101\" target=\"_blank\">/Users/billtubbs/cartpole/CartPoleBTEnv.jl:101</a></li> </ul>"
      ],
      "text/plain": [
       "# 3 methods for generic function \"cost_function\":\n",
       "[1] cost_function(gym::CartPole) in Main.CartPoleBTEnv at /Users/billtubbs/cartpole/CartPoleBTEnv.jl:160\n",
       "[2] cost_function(gym::CartPole, state) in Main.CartPoleBTEnv at /Users/billtubbs/cartpole/CartPoleBTEnv.jl:161\n",
       "[3] cost_function(state, goal_state) in Main.CartPoleBTEnv at /Users/billtubbs/cartpole/CartPoleBTEnv.jl:101"
      ]
     },
     "execution_count": 5,
     "metadata": {},
     "output_type": "execute_result"
    }
   ],
   "source": [
    "methods(cost_function)"
   ]
  },
  {
   "cell_type": "code",
   "execution_count": 6,
   "metadata": {},
   "outputs": [
    {
     "data": {
      "text/html": [
       "3 methods for generic function <b>Type</b>:<ul><li> CartPole(; <i>gravity, masscart, masspole, length, friction, max_force, goal_state, initial_state, disturbances, initial_state_variance, measurement_error, hidden_states, variance_levels, tau, n_steps, time_step, kinematics_integrator, observation_space, action_space, seed, state</i>) in Main.CartPoleBTEnv at <a href=\"https://github.com/billtubbs/gym-julia/tree/fb0d2ad63523a3effbf2c837041d35a98a52878f//CartPoleBTEnv.jl#L83\" target=\"_blank\">/Users/billtubbs/cartpole/CartPoleBTEnv.jl:83</a></li> <li> CartPole(gravity::<b>Float64</b>, masscart::<b>Float64</b>, masspole::<b>Float64</b>, length::<b>Float64</b>, friction::<b>Float64</b>, max_force::<b>Float64</b>, goal_state::<b>Array</b>, initial_state::<b>String</b>, disturbances::<b>String</b>, initial_state_variance::<b>String</b>, measurement_error::<b>String</b>, hidden_states::<b>Bool</b>, variance_levels::<b>Dict</b>, tau::<b>Float64</b>, n_steps::<b>Int64</b>, time_step::<b>Int64</b>, kinematics_integrator::<b>String</b>, observation_space::<b>Array</b>, action_space::<b>Array</b>, seed::<b>Int64</b>, state::<b>Array</b>) in Main.CartPoleBTEnv at <a href=\"https://github.com/billtubbs/gym-julia/tree/fb0d2ad63523a3effbf2c837041d35a98a52878f//CartPoleBTEnv.jl#L36\" target=\"_blank\">/Users/billtubbs/cartpole/CartPoleBTEnv.jl:36</a></li> <li> CartPole(gravity, masscart, masspole, length, friction, max_force, goal_state, initial_state, disturbances, initial_state_variance, measurement_error, hidden_states, variance_levels, tau, n_steps, time_step, kinematics_integrator, observation_space, action_space, seed, state) in Main.CartPoleBTEnv at <a href=\"https://github.com/billtubbs/gym-julia/tree/fb0d2ad63523a3effbf2c837041d35a98a52878f//CartPoleBTEnv.jl#L36\" target=\"_blank\">/Users/billtubbs/cartpole/CartPoleBTEnv.jl:36</a></li> </ul>"
      ],
      "text/plain": [
       "# 3 methods for generic function \"(::Type)\":\n",
       "[1] CartPole(; gravity, masscart, masspole, length, friction, max_force, goal_state, initial_state, disturbances, initial_state_variance, measurement_error, hidden_states, variance_levels, tau, n_steps, time_step, kinematics_integrator, observation_space, action_space, seed, state) in Main.CartPoleBTEnv at /Users/billtubbs/cartpole/CartPoleBTEnv.jl:83\n",
       "[2] CartPole(gravity::Float64, masscart::Float64, masspole::Float64, length::Float64, friction::Float64, max_force::Float64, goal_state::Array, initial_state::String, disturbances::String, initial_state_variance::String, measurement_error::String, hidden_states::Bool, variance_levels::Dict, tau::Float64, n_steps::Int64, time_step::Int64, kinematics_integrator::String, observation_space::Array, action_space::Array, seed::Int64, state::Array) in Main.CartPoleBTEnv at /Users/billtubbs/cartpole/CartPoleBTEnv.jl:36\n",
       "[3] CartPole(gravity, masscart, masspole, length, friction, max_force, goal_state, initial_state, disturbances, initial_state_variance, measurement_error, hidden_states, variance_levels, tau, n_steps, time_step, kinematics_integrator, observation_space, action_space, seed, state) in Main.CartPoleBTEnv at /Users/billtubbs/cartpole/CartPoleBTEnv.jl:36"
      ]
     },
     "execution_count": 6,
     "metadata": {},
     "output_type": "execute_result"
    }
   ],
   "source": [
    "methods(CartPole)"
   ]
  },
  {
   "cell_type": "code",
   "execution_count": 7,
   "metadata": {},
   "outputs": [
    {
     "ename": "ErrorException",
     "evalue": "type CartPole has no field step",
     "output_type": "error",
     "traceback": [
      "type CartPole has no field step",
      "",
      "Stacktrace:",
      " [1] getproperty(::Any, ::Symbol) at ./sysimg.jl:18",
      " [2] top-level scope at In[7]:1"
     ]
    }
   ],
   "source": [
    "gym.step"
   ]
  },
  {
   "cell_type": "code",
   "execution_count": 8,
   "metadata": {},
   "outputs": [
    {
     "name": "stderr",
     "output_type": "stream",
     "text": [
      "WARNING: both CartPoleBTEnv and Base export \"step\"; uses of it in module Main must be qualified\n"
     ]
    },
    {
     "ename": "UndefVarError",
     "evalue": "UndefVarError: step not defined",
     "output_type": "error",
     "traceback": [
      "UndefVarError: step not defined",
      "",
      "Stacktrace:",
      " [1] top-level scope at In[8]:1"
     ]
    }
   ],
   "source": [
    "state, reward, done = step(gym, 0.0)"
   ]
  },
  {
   "cell_type": "code",
   "execution_count": 9,
   "metadata": {},
   "outputs": [
    {
     "ename": "UndefVarError",
     "evalue": "UndefVarError: state not defined",
     "output_type": "error",
     "traceback": [
      "UndefVarError: state not defined",
      "",
      "Stacktrace:",
      " [1] top-level scope at In[9]:1"
     ]
    }
   ],
   "source": [
    "state"
   ]
  },
  {
   "cell_type": "code",
   "execution_count": 10,
   "metadata": {},
   "outputs": [
    {
     "ename": "UndefVarError",
     "evalue": "UndefVarError: reward not defined",
     "output_type": "error",
     "traceback": [
      "UndefVarError: reward not defined",
      "",
      "Stacktrace:",
      " [1] top-level scope at In[10]:1"
     ]
    }
   ],
   "source": [
    "reward"
   ]
  },
  {
   "cell_type": "code",
   "execution_count": 11,
   "metadata": {},
   "outputs": [
    {
     "ename": "UndefVarError",
     "evalue": "UndefVarError: done not defined",
     "output_type": "error",
     "traceback": [
      "UndefVarError: done not defined",
      "",
      "Stacktrace:",
      " [1] top-level scope at In[11]:1"
     ]
    }
   ],
   "source": [
    "done"
   ]
  },
  {
   "cell_type": "code",
   "execution_count": 17,
   "metadata": {},
   "outputs": [
    {
     "data": {
      "text/plain": [
       "Person (generic function with 1 method)"
      ]
     },
     "execution_count": 17,
     "metadata": {},
     "output_type": "execute_result"
    }
   ],
   "source": [
    "function Person(name, age)\n",
    "    getName() = name\n",
    "    getAge() = age\n",
    "    getOlder() = (age+=1)\n",
    "    ()->(getName;getAge;getOlder)\n",
    "end"
   ]
  },
  {
   "cell_type": "code",
   "execution_count": 13,
   "metadata": {},
   "outputs": [
    {
     "data": {
      "text/plain": [
       "#3 (generic function with 1 method)"
      ]
     },
     "execution_count": 13,
     "metadata": {},
     "output_type": "execute_result"
    }
   ],
   "source": [
    "bob = Person(\"Bob\", 45)"
   ]
  },
  {
   "cell_type": "code",
   "execution_count": 24,
   "metadata": {},
   "outputs": [
    {
     "data": {
      "text/plain": [
       "46"
      ]
     },
     "execution_count": 24,
     "metadata": {},
     "output_type": "execute_result"
    }
   ],
   "source": [
    "bob.getAge()"
   ]
  },
  {
   "cell_type": "code",
   "execution_count": 20,
   "metadata": {},
   "outputs": [
    {
     "data": {
      "text/plain": [
       "\"Bob\""
      ]
     },
     "execution_count": 20,
     "metadata": {},
     "output_type": "execute_result"
    }
   ],
   "source": [
    "bob.getName()"
   ]
  },
  {
   "cell_type": "code",
   "execution_count": 22,
   "metadata": {},
   "outputs": [
    {
     "data": {
      "text/plain": [
       "46"
      ]
     },
     "execution_count": 22,
     "metadata": {},
     "output_type": "execute_result"
    }
   ],
   "source": [
    "bob.getOlder()"
   ]
  },
  {
   "cell_type": "code",
   "execution_count": null,
   "metadata": {},
   "outputs": [],
   "source": [
    "function Person(name, age)\n",
    "    getName() = name\n",
    "    getAge() = age\n",
    "    getOlder() = (age+=1)\n",
    "    ()->(getName;getAge;getOlder)\n",
    "end"
   ]
  },
  {
   "cell_type": "code",
   "execution_count": 63,
   "metadata": {},
   "outputs": [
    {
     "data": {
      "text/plain": [
       "Pizza (generic function with 1 method)"
      ]
     },
     "execution_count": 63,
     "metadata": {},
     "output_type": "execute_result"
    }
   ],
   "source": [
    "function Pizza(size)\n",
    "    getSize() = size\n",
    "    state::Int = 0\n",
    "    getState() = state\n",
    "    function cook()\n",
    "        state+=1\n",
    "    end\n",
    "    () -> (getSize; getState; cook)\n",
    "end"
   ]
  },
  {
   "cell_type": "code",
   "execution_count": 64,
   "metadata": {},
   "outputs": [
    {
     "data": {
      "text/plain": [
       "#39 (generic function with 1 method)"
      ]
     },
     "execution_count": 64,
     "metadata": {},
     "output_type": "execute_result"
    }
   ],
   "source": [
    "my_pizza = Pizza(15)"
   ]
  },
  {
   "cell_type": "code",
   "execution_count": 65,
   "metadata": {},
   "outputs": [
    {
     "data": {
      "text/plain": [
       "15"
      ]
     },
     "execution_count": 65,
     "metadata": {},
     "output_type": "execute_result"
    }
   ],
   "source": [
    "my_pizza.getSize()"
   ]
  },
  {
   "cell_type": "code",
   "execution_count": 66,
   "metadata": {},
   "outputs": [
    {
     "data": {
      "text/plain": [
       "0"
      ]
     },
     "execution_count": 66,
     "metadata": {},
     "output_type": "execute_result"
    }
   ],
   "source": [
    "my_pizza.getState()"
   ]
  },
  {
   "cell_type": "code",
   "execution_count": 67,
   "metadata": {},
   "outputs": [
    {
     "data": {
      "text/plain": [
       "1"
      ]
     },
     "execution_count": 67,
     "metadata": {},
     "output_type": "execute_result"
    }
   ],
   "source": [
    "my_pizza.cook()"
   ]
  },
  {
   "cell_type": "code",
   "execution_count": null,
   "metadata": {},
   "outputs": [],
   "source": []
  }
 ],
 "metadata": {
  "kernelspec": {
   "display_name": "Julia 1.1.1",
   "language": "julia",
   "name": "julia-1.1"
  },
  "language_info": {
   "file_extension": ".jl",
   "mimetype": "application/julia",
   "name": "julia",
   "version": "1.1.1"
  }
 },
 "nbformat": 4,
 "nbformat_minor": 4
}
