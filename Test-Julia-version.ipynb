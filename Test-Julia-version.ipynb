{
 "cells": [
  {
   "cell_type": "markdown",
   "metadata": {},
   "source": [
    "# Cart and Inverted Pendulum Simulation\n",
    "\n",
    "- This is a Julia version of the system used in my Open AI Gym environment:\n",
    "https://github.com/billtubbs/gym-CartPole-bt-v0/\n",
    "- Both mimic the system used in Steve Brunton's Control Bootcamp video lecture series."
   ]
  },
  {
   "cell_type": "code",
   "execution_count": 1,
   "metadata": {},
   "outputs": [],
   "source": [
    "using Printf\n",
    "using Test\n",
    "using DifferentialEquations"
   ]
  },
  {
   "cell_type": "code",
   "execution_count": 2,
   "metadata": {},
   "outputs": [],
   "source": [
    "# Prepare directories\n",
    "plot_dir = \"plots\"\n",
    "data_dir = \"data\"\n",
    "\n",
    "for dir_path in [plot_dir, data_dir]\n",
    "    if ~isdir(dir_path)\n",
    "        mkdir(dir_path)\n",
    "    end\n",
    "end"
   ]
  },
  {
   "cell_type": "code",
   "execution_count": 3,
   "metadata": {},
   "outputs": [],
   "source": [
    "function cartpend_dydt(t, y, m=1, M=5, L=2, g=-10, d=1, u=0)\n",
    "    \"\"\"Simulates the non-linear dynamics of a simple cart-pendulum system.\n",
    "    These non-linear ordinary differential equations (ODEs) return the\n",
    "    time-derivative at the current time given the current state of the\n",
    "    system.\n",
    "    Args:\n",
    "        t (float): Time variable - not used here but included for\n",
    "            compatibility with solvers like scipy.integrate.solve_ivp.\n",
    "        y (array): State vector. This should be an array of\n",
    "            shape (4, ) containing the current state of the system.\n",
    "            y[0] is the x-position of the cart, y[1] is the velocity\n",
    "            of the cart (dx/dt), y[2] is the angle of the pendulum\n",
    "            (theta) from the vertical in radians, and y[3] is the\n",
    "            rate of change of theta (dtheta/dt).\n",
    "        m (float): Mass of pendulum.\n",
    "        M (float): Mass of cart.\n",
    "        L (float): Length of pendulum.\n",
    "        g (float): Acceleration due to gravity.\n",
    "        d (float): Damping coefficient for friction between cart and\n",
    "            ground.\n",
    "        u (float): Force on cart in x-direction.\n",
    "    Returns:\n",
    "        dy (array): The time derivate of the state (dy/dt) as a\n",
    "            shape (4, ) array.\n",
    "    \"\"\"\n",
    "\n",
    "    # Temporary variables\n",
    "    Sy = sin(y[3])\n",
    "    Cy = cos(y[3])\n",
    "    mL = m*L\n",
    "    D = 1/(L*(M + m*(1 - Cy^2)))\n",
    "    b = mL*y[4]^2*Sy - d*y[2] + u\n",
    "    dy = zeros(4)\n",
    "\n",
    "    # Non-linear ordinary differential equations describing\n",
    "    # simple cart-pendulum system dynamics\n",
    "    dy[1] = y[2]\n",
    "    dy[2] = D*(-mL*g*Cy*Sy + L*b)\n",
    "    dy[3] = y[4]\n",
    "    dy[4] = D*((m + M)*g*Sy - Cy*b)\n",
    "\n",
    "    return dy\n",
    "end;\n",
    "\n",
    "function cartpend_ss(m=1, M=5, L=2, g=-10, d=1, s=1)\n",
    "    \"\"\"Calculates the linearized approximation of the cart-pendulum\n",
    "    system dynamics at either the vertical-up position (s=1) or\n",
    "    vertical-down position (s=-1).\n",
    "\n",
    "    Returns two arrays, A, B which are the system and input matrices\n",
    "    in the state-space system of differential equations:\n",
    "\n",
    "        x_dot = Ax + Bu\n",
    "\n",
    "    where x is the state vector, u is the control vector and x_dot\n",
    "    is the time derivative (dx/dt).\n",
    "\n",
    "    Args:\n",
    "        m (float): Mass of pendulum.\n",
    "        M (float): Mass of cart.\n",
    "        L (float): Length of pendulum.\n",
    "        g (float): Acceleration due to gravity.\n",
    "        d (float): Damping coefficient for friction between cart and\n",
    "            ground.\n",
    "        s (int): 1 for pendulum up position or -1 for down.\n",
    "\n",
    "    Returns:\n",
    "        dy (np.array): The time derivate of the state (dy/dt) as a\n",
    "            shape (4, ) array.\n",
    "    \"\"\"\n",
    "\n",
    "    A = [     0.0        1.0              0.0      0.0;\n",
    "                0       -d/M           -m*g/M      0.0;\n",
    "              0.0        0.0              0.0      1.0;\n",
    "              0.0 -s*d/(M*L) -s*(m+M)*g/(M*L)      0.0]\n",
    "\n",
    "    B = [        0.0;\n",
    "               1.0/M;\n",
    "                 0.0;\n",
    "         s*1.0/(M*L)]\n",
    "\n",
    "    return A, B\n",
    "end;"
   ]
  },
  {
   "cell_type": "markdown",
   "metadata": {},
   "source": [
    "## Run tests"
   ]
  },
  {
   "cell_type": "code",
   "execution_count": 4,
   "metadata": {},
   "outputs": [
    {
     "data": {
      "text/plain": [
       "0"
      ]
     },
     "execution_count": 4,
     "metadata": {},
     "output_type": "execute_result"
    }
   ],
   "source": [
    "# Fixed parameter values\n",
    "m = 1\n",
    "M = 5\n",
    "L = 2\n",
    "g = -10\n",
    "d = 1\n",
    "u = 0"
   ]
  },
  {
   "cell_type": "code",
   "execution_count": 5,
   "metadata": {},
   "outputs": [],
   "source": [
    "y_test_values = Dict(\n",
    "    1 => [0, 0, 0, 0],  # Pendulum down position\n",
    "    2 => [0, 0, pi, 0],  # Pendulum up position\n",
    "    3 => [0, 0, 0, 0],\n",
    "    4 => [0, 0, pi, 0],\n",
    "    5 => [2.260914, 0.026066, 0.484470, -0.026480]\n",
    ");\n",
    "\n",
    "u_test_values = Dict(\n",
    "    1 => 0.,\n",
    "    2 => 0.,\n",
    "    3 => 1.,\n",
    "    4 => 1.,\n",
    "    5 => -0.59601\n",
    ");\n",
    "\n",
    "# dy values below calculated with MATLAB script from\n",
    "# Steven L. Brunton's Control Bootcamp videos\n",
    "expected_results = Dict(\n",
    "    1 => [0., 0., 0., 0.],\n",
    "    2 => [0., -2.44929360e-16, 0., -7.34788079e-16],\n",
    "    3 => [0., 0.2, 0., -0.1],\n",
    "    4 => [0., 0.2, 0. ,0.1],\n",
    "    5 => [0.026066, 0.670896, -0.026480, -2.625542]\n",
    ");\n",
    "\n",
    "t = 0.0\n",
    "atol = 1e-6\n",
    "for i in 1:5\n",
    "    u = u_test_values[i]\n",
    "    y = y_test_values[i]\n",
    "    dy_calculated = cartpend_dydt(t, y, m, M, L, g, d, u)\n",
    "    dy_expected = expected_results[i]\n",
    "    @test maximum(abs.(dy_calculated - expected_results[i])) < atol\n",
    "end"
   ]
  },
  {
   "cell_type": "code",
   "execution_count": 6,
   "metadata": {},
   "outputs": [],
   "source": [
    "# K values below calculated with MATLAB script from\n",
    "# Steven L. Brunton's Control Bootcamp videos\n",
    "test_values = Dict(\n",
    "    5 => 1,  # Pendulum up position\n",
    "    6 => -1  # Pendulum down position\n",
    ")\n",
    "\n",
    "expected_results = Dict(\n",
    "    5 => ([0.0   1.0   0.0   0.0;\n",
    "           0.0  -0.2   2.0   0.0;\n",
    "           0.0   0.0   0.0   1.0;\n",
    "           0.0  -0.1   6.0   0.0],\n",
    "         [ 0.0;  0.2;  0.0;  0.1]),\n",
    "    6 => ([0.0   1.0   0.0   0.0;\n",
    "           0.0  -0.2   2.0   0.0;\n",
    "           0.0   0.0   0.0   1.0;\n",
    "           0.0   0.1  -6.0   0.0],\n",
    "         [ 0.0;  0.2;  0.0; -0.1])\n",
    ");\n",
    "\n",
    "atol = 1e-6\n",
    "for i in 5:6\n",
    "    s = test_values[i]\n",
    "    A_calculated, B_calculated = cartpend_ss(m, M, L, g, d, s)\n",
    "    A_expected, B_expected = expected_results[i]\n",
    "    @test maximum(abs.(A_calculated - A_expected)) < atol\n",
    "    @test maximum(abs.(B_calculated - B_expected)) < atol\n",
    "end"
   ]
  },
  {
   "cell_type": "code",
   "execution_count": 7,
   "metadata": {},
   "outputs": [
    {
     "data": {
      "text/plain": [
       "Foo(1, 2)"
      ]
     },
     "execution_count": 7,
     "metadata": {},
     "output_type": "execute_result"
    }
   ],
   "source": [
    "struct Foo\n",
    "   bar\n",
    "   baz\n",
    "end\n",
    "\n",
    "foo = Foo(1, 2)"
   ]
  },
  {
   "cell_type": "code",
   "execution_count": 8,
   "metadata": {},
   "outputs": [
    {
     "data": {
      "text/plain": [
       "\u001b[32m\u001b[1mTest Passed\u001b[22m\u001b[39m"
      ]
     },
     "execution_count": 8,
     "metadata": {},
     "output_type": "execute_result"
    }
   ],
   "source": [
    "struct CartPoleBTEnv\n",
    "    gravity::Float64\n",
    "    masscart::Float64\n",
    "    masspole::Float64\n",
    "    length::Float64\n",
    "    friction::Float64\n",
    "    max_force::Float64\n",
    "    goal_state::Array\n",
    "    initial_state::String\n",
    "    disturbances::String\n",
    "    initial_state_variance::String\n",
    "    measurement_error::String\n",
    "    hidden_states::Bool\n",
    "    variance_levels::Dict\n",
    "    tau::Float64\n",
    "    n_steps::Int\n",
    "    time_step::Int\n",
    "    kinematics_integrator::String\n",
    "    observation_space::Array\n",
    "    action_space::Array\n",
    "    seed::Int\n",
    "    state::Array\n",
    "end\n",
    "\n",
    "# Set defaults with keyword arguments\n",
    "CartPoleBTEnv(;\n",
    "    gravity=-10.0, \n",
    "    masscart=5.0, \n",
    "    masspole=1.0, \n",
    "    length=2.0, \n",
    "    friction=1.0, \n",
    "    max_force=200.0,\n",
    "    goal_state=[0.0; 0.0; pi; 0.0],\n",
    "    initial_state=\"goal\",\n",
    "    disturbances=\"none\",\n",
    "    initial_state_variance=\"none\",\n",
    "    measurement_error=\"none\",  # Not implemented yet\n",
    "    hidden_states=false,  # Not implemented yet\n",
    "    variance_levels=Dict(\"none\"=>0.0, \"low\"=>0.01, \"high\"=>0.2),\n",
    "    tau=0.05,\n",
    "    n_steps=100,\n",
    "    time_step=0,\n",
    "    kinematics_integrator=\"RK45\",\n",
    "    observation_space=[[-Inf64; -Inf64; -Inf64; -Inf64],\n",
    "                       [Inf64; Inf64; Inf64; Inf64]],\n",
    "    action_space=[[-Inf64; -Inf64]],\n",
    "    seed=1,\n",
    "    state=zeros(4)\n",
    ") = CartPoleBTEnv(\n",
    "    gravity, masscart, masspole, length, friction, max_force,\n",
    "    goal_state, initial_state, disturbances, initial_state_variance,\n",
    "    measurement_error, hidden_states, variance_levels, \n",
    "    tau, n_steps, time_step, kinematics_integrator,\n",
    "    observation_space, action_space, seed, state\n",
    ")\n",
    "\n",
    "# Usage:\n",
    "# CartPoleBTEnv()  # Defaults\n",
    "# CartPoleBTEnv(;friction=2)  # Specify non-default values\n",
    "\n",
    "gym = CartPoleBTEnv()\n",
    "@test gym.friction == 1.0\n",
    "@test gym.state == [0.0; 0.0; 0.0; 0.0]\n",
    "@test gym.goal_state == [0.0; 0.0; 3.141592653589793; 0.0]"
   ]
  },
  {
   "cell_type": "code",
   "execution_count": 9,
   "metadata": {},
   "outputs": [
    {
     "data": {
      "text/plain": [
       "CartPoleBTEnv(-10.0, 5.0, 1.0, 2.0, 1.0, 200.0, [0.0, 0.0, 3.14159, 0.0], \"goal\", \"none\", \"none\", \"none\", false, Dict(\"high\"=>0.2,\"none\"=>0.0,\"low\"=>0.01), 0.05, 100, 0, \"RK45\", Array{Float64,1}[[-Inf, -Inf, -Inf, -Inf], [Inf, Inf, Inf, Inf]], Array{Float64,1}[[-Inf, -Inf]], 1, [0.0, 0.0, 0.0, 0.0])"
      ]
     },
     "execution_count": 9,
     "metadata": {},
     "output_type": "execute_result"
    }
   ],
   "source": [
    "CartPoleBTEnv()"
   ]
  },
  {
   "cell_type": "code",
   "execution_count": 10,
   "metadata": {},
   "outputs": [
    {
     "data": {
      "text/plain": [
       "\u001b[32m\u001b[1mTest Passed\u001b[22m\u001b[39m"
      ]
     },
     "execution_count": 10,
     "metadata": {},
     "output_type": "execute_result"
    }
   ],
   "source": [
    "function angle_normalize(theta)\n",
    "    return theta % (2*pi)\n",
    "end\n",
    "\n",
    "@test angle_normalize(0) == 0.0\n",
    "@test angle_normalize(pi*2.1) == angle_normalize(pi*0.1)\n",
    "@test angle_normalize(-pi*2.1) == angle_normalize(-pi*0.1)\n",
    "@test angle_normalize(pi*1.9) == angle_normalize(pi*3.9)\n",
    "\n",
    "function cost_function(state, goal_state)\n",
    "        \"\"\"Evaluates the cost based on the current state y and\n",
    "        the goal state.\n",
    "        \"\"\"\n",
    "        return ((state[1] - goal_state[1])^2 +\n",
    "                (angle_normalize(state[3]) - goal_state[3])^2)\n",
    "end\n",
    "\n",
    "cost_function(gym::CartPoleBTEnv) = cost_function(gym.state, gym.goal_state)\n",
    "cost_function(gym::CartPoleBTEnv, state) = cost_function(state, gym.goal_state)\n",
    "\n",
    "gym = CartPoleBTEnv()\n",
    "@test cost_function(zeros(4), zeros(4)) == 0.0\n",
    "@test cost_function(zeros(4), [0.0, 0.0, pi, 0.0]) == 9.869604401089358\n",
    "@test cost_function(gym) == 9.869604401089358\n",
    "@test cost_function(gym, zeros(4)) == 9.869604401089358"
   ]
  },
  {
   "cell_type": "code",
   "execution_count": 11,
   "metadata": {},
   "outputs": [
    {
     "data": {
      "text/plain": [
       "\u001b[36mODEProblem\u001b[0m with uType \u001b[36mFloat64\u001b[0m and tType \u001b[36mFloat64\u001b[0m. In-place: \u001b[36mfalse\u001b[0m\n",
       "timespan: (0.0, 1.0)\n",
       "u0: 1.0"
      ]
     },
     "execution_count": 11,
     "metadata": {},
     "output_type": "execute_result"
    }
   ],
   "source": [
    "f(u,p,t) = 0.98u\n",
    "u0 = 1.0\n",
    "tspan = (0.0,1.0)\n",
    "prob = ODEProblem(f,u0,tspan)"
   ]
  },
  {
   "cell_type": "code",
   "execution_count": 12,
   "metadata": {},
   "outputs": [
    {
     "data": {
      "text/plain": [
       "retcode: Success\n",
       "Interpolation: Automatic order switching interpolation\n",
       "t: 5-element Array{Float64,1}:\n",
       " 0.0                \n",
       " 0.10042494449239292\n",
       " 0.35218603951893646\n",
       " 0.6934436028208104 \n",
       " 1.0                \n",
       "u: 5-element Array{Float64,1}:\n",
       " 1.0               \n",
       " 1.1034222047865465\n",
       " 1.4121908848175453\n",
       " 1.9730384275622992\n",
       " 2.6644561424814506"
      ]
     },
     "execution_count": 12,
     "metadata": {},
     "output_type": "execute_result"
    }
   ],
   "source": [
    "sol = solve(prob)"
   ]
  },
  {
   "cell_type": "code",
   "execution_count": 13,
   "metadata": {},
   "outputs": [
    {
     "data": {
      "text/plain": [
       "5-element Array{Float64,1}:\n",
       " 0.0                \n",
       " 0.10042494449239292\n",
       " 0.35218603951893646\n",
       " 0.6934436028208104 \n",
       " 1.0                "
      ]
     },
     "execution_count": 13,
     "metadata": {},
     "output_type": "execute_result"
    }
   ],
   "source": [
    "sol.t"
   ]
  },
  {
   "cell_type": "code",
   "execution_count": 14,
   "metadata": {},
   "outputs": [
    {
     "data": {
      "text/plain": [
       "5-element Array{Float64,1}:\n",
       " 1.0               \n",
       " 1.1034222047865465\n",
       " 1.4121908848175453\n",
       " 1.9730384275622992\n",
       " 2.6644561424814506"
      ]
     },
     "execution_count": 14,
     "metadata": {},
     "output_type": "execute_result"
    }
   ],
   "source": [
    "sol.u"
   ]
  },
  {
   "cell_type": "code",
   "execution_count": 15,
   "metadata": {},
   "outputs": [
    {
     "data": {
      "text/plain": [
       "200.0"
      ]
     },
     "execution_count": 15,
     "metadata": {},
     "output_type": "execute_result"
    }
   ],
   "source": [
    "gym.max_force"
   ]
  },
  {
   "cell_type": "code",
   "execution_count": 16,
   "metadata": {},
   "outputs": [
    {
     "data": {
      "text/plain": [
       "step (generic function with 1 method)"
      ]
     },
     "execution_count": 16,
     "metadata": {},
     "output_type": "execute_result"
    }
   ],
   "source": [
    "function step(gym::CartPoleBTEnv, u)\n",
    "    u = clamp(u, -gym.max_force, gym.max_force)\n",
    "    y = gym.state\n",
    "    t = gym.time_step * gym.tau\n",
    "    \n",
    "    if gym.kinematics_integrator == \"euler\"\n",
    "        println(\"euler\")\n",
    "        y_dot = cartpend_dydt(t, y,\n",
    "                              gym.masspole,\n",
    "                              gym.masscart,\n",
    "                              gym.length,\n",
    "                              gym.gravity,\n",
    "                              gym.friction,\n",
    "                              u)\n",
    "        gym.state += gym.tau * y_dot\n",
    "    elseif gym.kinematics_integrator == \"RK45\"\n",
    "        println(\"RK45\")\n",
    "        f(y, p, t) = cartpend_dydt(t, y,\n",
    "                                   gym.masspole,\n",
    "                                   gym.masscart,\n",
    "                                   gym.length,\n",
    "                                   gym.gravity,\n",
    "                                   gym.friction,\n",
    "                                   u)\n",
    "        y0 = gym.state\n",
    "        tspan = (t, t + gym.tau)\n",
    "        prob = ODEProblem(f, y0, tspan)\n",
    "        sol = solve(prob)\n",
    "        gym.state = sol.u[end]\n",
    "    end\n",
    "end"
   ]
  },
  {
   "cell_type": "code",
   "execution_count": 31,
   "metadata": {},
   "outputs": [
    {
     "data": {
      "text/plain": [
       "retcode: Success\n",
       "Interpolation: Automatic order switching interpolation\n",
       "t: 5-element Array{Float64,1}:\n",
       " 0.0                  \n",
       " 9.999999999999999e-5 \n",
       " 0.0010999999999999998\n",
       " 0.011099999999999997 \n",
       " 0.05                 \n",
       "u: 5-element Array{Array{Float64,1},1}:\n",
       " [0.0, 0.0, 0.0, 0.0]                                \n",
       " [-5.96006e-10, -1.19201e-5, 2.98003e-10, 5.96004e-6]\n",
       " [-7.21119e-8, -0.000131108, 3.60559e-8, 6.55538e-5] \n",
       " [-7.33793e-6, -0.00132165, 3.66878e-6, 0.000660756] \n",
       " [-0.000148476, -0.00592793, 7.41607e-5, 0.00295778] "
      ]
     },
     "execution_count": 31,
     "metadata": {},
     "output_type": "execute_result"
    }
   ],
   "source": [
    "t = gym.time_step * gym.tau\n",
    "f(y, p, t) = cartpend_dydt(t, y,\n",
    "                                   gym.masspole,\n",
    "                                   gym.masscart,\n",
    "                                   gym.length,\n",
    "                                   gym.gravity,\n",
    "                                   gym.friction,\n",
    "                                   u)\n",
    "y0 = gym.state\n",
    "tspan = (t, t + gym.tau)\n",
    "prob = ODEProblem(f, y0, tspan)\n",
    "sol = solve(prob)"
   ]
  },
  {
   "cell_type": "code",
   "execution_count": 32,
   "metadata": {},
   "outputs": [
    {
     "data": {
      "text/plain": [
       "4-element Array{Float64,1}:\n",
       " -0.00014847616143074153\n",
       " -0.005927929443185163  \n",
       "  7.416066919494952e-5  \n",
       "  0.0029577764184044054 "
      ]
     },
     "execution_count": 32,
     "metadata": {},
     "output_type": "execute_result"
    }
   ],
   "source": [
    "sol.u[end]"
   ]
  },
  {
   "cell_type": "code",
   "execution_count": 33,
   "metadata": {},
   "outputs": [
    {
     "data": {
      "text/plain": [
       "4-element Array{Float64,1}:\n",
       " 0.0\n",
       " 0.0\n",
       " 0.0\n",
       " 0.0"
      ]
     },
     "execution_count": 33,
     "metadata": {},
     "output_type": "execute_result"
    }
   ],
   "source": [
    "gym.state"
   ]
  },
  {
   "cell_type": "code",
   "execution_count": 34,
   "metadata": {},
   "outputs": [
    {
     "ename": "ErrorException",
     "evalue": "setfield! immutable struct of type CartPoleBTEnv cannot be changed",
     "output_type": "error",
     "traceback": [
      "setfield! immutable struct of type CartPoleBTEnv cannot be changed",
      "",
      "Stacktrace:",
      " [1] setproperty!(::CartPoleBTEnv, ::Symbol, ::Array{Float64,1}) at ./sysimg.jl:19",
      " [2] top-level scope at In[34]:1"
     ]
    }
   ],
   "source": [
    "gym.state = sol.u[end]"
   ]
  },
  {
   "cell_type": "code",
   "execution_count": 19,
   "metadata": {},
   "outputs": [
    {
     "ename": "MethodError",
     "evalue": "MethodError: no method matching isless(::Float64, ::Array{Float64,1})\nClosest candidates are:\n  isless(::Float64, !Matched::Float64) at float.jl:459\n  isless(!Matched::Missing, ::Any) at missing.jl:70\n  isless(::AbstractFloat, !Matched::AbstractFloat) at operators.jl:148\n  ...",
     "output_type": "error",
     "traceback": [
      "MethodError: no method matching isless(::Float64, ::Array{Float64,1})\nClosest candidates are:\n  isless(::Float64, !Matched::Float64) at float.jl:459\n  isless(!Matched::Missing, ::Any) at missing.jl:70\n  isless(::AbstractFloat, !Matched::AbstractFloat) at operators.jl:148\n  ...",
      "",
      "Stacktrace:",
      " [1] <(::Float64, ::Array{Float64,1}) at ./operators.jl:260",
      " [2] >(::Array{Float64,1}, ::Float64) at ./operators.jl:286",
      " [3] clamp(::Array{Float64,1}, ::Float64, ::Float64) at ./math.jl:73",
      " [4] step(::CartPoleBTEnv, ::Array{Float64,1}) at ./In[16]:2",
      " [5] top-level scope at In[19]:1"
     ]
    }
   ],
   "source": [
    "step(gym, [0.5])"
   ]
  },
  {
   "cell_type": "code",
   "execution_count": 21,
   "metadata": {},
   "outputs": [
    {
     "data": {
      "text/plain": [
       "f (generic function with 1 method)"
      ]
     },
     "execution_count": 21,
     "metadata": {},
     "output_type": "execute_result"
    }
   ],
   "source": [
    "f(y, p, t) = cartpend_dydt(t, y,\n",
    "                           gym.masspole,\n",
    "                           gym.masscart,\n",
    "                           gym.length,\n",
    "                           gym.gravity,\n",
    "                           gym.friction,\n",
    "                           u)"
   ]
  },
  {
   "cell_type": "code",
   "execution_count": 22,
   "metadata": {},
   "outputs": [
    {
     "data": {
      "text/plain": [
       "\u001b[36mODEProblem\u001b[0m with uType \u001b[36mArray{Float64,1}\u001b[0m and tType \u001b[36mFloat64\u001b[0m. In-place: \u001b[36mfalse\u001b[0m\n",
       "timespan: (0.0, 1.0)\n",
       "u0: [0.0, 0.0, 0.0, 0.0]"
      ]
     },
     "execution_count": 22,
     "metadata": {},
     "output_type": "execute_result"
    }
   ],
   "source": [
    "y0 = gym.state\n",
    "tspan = (0.0,1.0)\n",
    "prob = ODEProblem(f,y0,tspan)"
   ]
  },
  {
   "cell_type": "code",
   "execution_count": 23,
   "metadata": {},
   "outputs": [
    {
     "data": {
      "text/plain": [
       "retcode: Success\n",
       "Interpolation: Automatic order switching interpolation\n",
       "t: 11-element Array{Float64,1}:\n",
       " 0.0                  \n",
       " 9.999999999999999e-5 \n",
       " 0.0010999999999999998\n",
       " 0.011099999999999997 \n",
       " 0.0602289268362002   \n",
       " 0.151453304943196    \n",
       " 0.27267236386087373  \n",
       " 0.42530040904162536  \n",
       " 0.610705730342367    \n",
       " 0.8303569319992211   \n",
       " 1.0                  \n",
       "u: 11-element Array{Array{Float64,1},1}:\n",
       " [0.0, 0.0, 0.0, 0.0]                                \n",
       " [-5.96006e-10, -1.19201e-5, 2.98003e-10, 5.96004e-6]\n",
       " [-7.21119e-8, -0.000131108, 3.60559e-8, 6.55538e-5] \n",
       " [-7.33793e-6, -0.00132165, 3.66878e-6, 0.000660756] \n",
       " [-0.000215274, -0.00713203, 0.000107474, 0.00355521]\n",
       " [-0.00135086, -0.0177153, 0.000668968, 0.00868759]  \n",
       " [-0.00432541, -0.0312495, 0.00209581, 0.0146534]    \n",
       " [-0.0103299, -0.0472137, 0.00477972, 0.0200646]     \n",
       " [-0.0207403, -0.0647275, 0.00880564, 0.0225602]     \n",
       " [-0.0369875, -0.0827303, 0.0135174, 0.0192359]      \n",
       " [-0.0520694, -0.0948523, 0.0162593, 0.0125882]      "
      ]
     },
     "execution_count": 23,
     "metadata": {},
     "output_type": "execute_result"
    }
   ],
   "source": [
    "sol = solve(prob)"
   ]
  },
  {
   "cell_type": "code",
   "execution_count": 24,
   "metadata": {},
   "outputs": [
    {
     "data": {
      "text/plain": [
       "11-element Array{Float64,1}:\n",
       " 0.0                  \n",
       " 9.999999999999999e-5 \n",
       " 0.0010999999999999998\n",
       " 0.011099999999999997 \n",
       " 0.0602289268362002   \n",
       " 0.151453304943196    \n",
       " 0.27267236386087373  \n",
       " 0.42530040904162536  \n",
       " 0.610705730342367    \n",
       " 0.8303569319992211   \n",
       " 1.0                  "
      ]
     },
     "execution_count": 24,
     "metadata": {},
     "output_type": "execute_result"
    }
   ],
   "source": [
    "sol.t"
   ]
  },
  {
   "cell_type": "code",
   "execution_count": 25,
   "metadata": {},
   "outputs": [
    {
     "data": {
      "text/plain": [
       "(4,)"
      ]
     },
     "execution_count": 25,
     "metadata": {},
     "output_type": "execute_result"
    }
   ],
   "source": [
    "size(sol.u[end])"
   ]
  },
  {
   "cell_type": "code",
   "execution_count": 26,
   "metadata": {},
   "outputs": [
    {
     "data": {
      "text/plain": [
       "11-element Array{Array{Float64,1},1}:\n",
       " [0.0, 0.0, 0.0, 0.0]                                \n",
       " [-5.96006e-10, -1.19201e-5, 2.98003e-10, 5.96004e-6]\n",
       " [-7.21119e-8, -0.000131108, 3.60559e-8, 6.55538e-5] \n",
       " [-7.33793e-6, -0.00132165, 3.66878e-6, 0.000660756] \n",
       " [-0.000215274, -0.00713203, 0.000107474, 0.00355521]\n",
       " [-0.00135086, -0.0177153, 0.000668968, 0.00868759]  \n",
       " [-0.00432541, -0.0312495, 0.00209581, 0.0146534]    \n",
       " [-0.0103299, -0.0472137, 0.00477972, 0.0200646]     \n",
       " [-0.0207403, -0.0647275, 0.00880564, 0.0225602]     \n",
       " [-0.0369875, -0.0827303, 0.0135174, 0.0192359]      \n",
       " [-0.0520694, -0.0948523, 0.0162593, 0.0125882]      "
      ]
     },
     "execution_count": 26,
     "metadata": {},
     "output_type": "execute_result"
    }
   ],
   "source": [
    "sol.u"
   ]
  },
  {
   "cell_type": "code",
   "execution_count": null,
   "metadata": {},
   "outputs": [],
   "source": []
  }
 ],
 "metadata": {
  "kernelspec": {
   "display_name": "Julia 1.1.1",
   "language": "julia",
   "name": "julia-1.1"
  },
  "language_info": {
   "file_extension": ".jl",
   "mimetype": "application/julia",
   "name": "julia",
   "version": "1.1.1"
  }
 },
 "nbformat": 4,
 "nbformat_minor": 4
}
