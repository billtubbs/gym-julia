{
 "cells": [
  {
   "cell_type": "markdown",
   "metadata": {},
   "source": [
    "# Cart and Inverted Pendulum Simulation\n",
    "\n",
    "- This is a Julia version of the system used in my Open AI Gym environment:\n",
    "https://github.com/billtubbs/gym-CartPole-bt-v0/\n",
    "- Both mimic the system used in Steve Brunton's Control Bootcamp video lecture series."
   ]
  },
  {
   "cell_type": "code",
   "execution_count": 1,
   "metadata": {},
   "outputs": [
    {
     "data": {
      "text/plain": [
       "Main.CartPoleBTEnv"
      ]
     },
     "execution_count": 1,
     "metadata": {},
     "output_type": "execute_result"
    }
   ],
   "source": [
    "include(\"CartPoleBTEnv.jl\")"
   ]
  },
  {
   "cell_type": "code",
   "execution_count": 2,
   "metadata": {},
   "outputs": [],
   "source": [
    "using .CartPoleBTEnv\n",
    "using DifferentialEquations"
   ]
  },
  {
   "cell_type": "code",
   "execution_count": 3,
   "metadata": {},
   "outputs": [],
   "source": [
    "# Prepare directories\n",
    "#plot_dir = \"plots\"\n",
    "#data_dir = \"data\"\n",
    "\n",
    "#for dir_path in [plot_dir, data_dir]\n",
    "#    if ~isdir(dir_path)\n",
    "#        mkdir(dir_path)\n",
    "#    end\n",
    "#end"
   ]
  },
  {
   "cell_type": "code",
   "execution_count": 12,
   "metadata": {},
   "outputs": [
    {
     "data": {
      "text/html": [
       "3 methods for generic function <b>Type</b>:<ul><li> CartPole(; <i>gravity, masscart, masspole, length, friction, max_force, goal_state, initial_state, disturbances, initial_state_variance, measurement_error, hidden_states, variance_levels, tau, n_steps, time_step, kinematics_integrator, observation_space, action_space, seed, state</i>) in Main.CartPoleBTEnv at <a href=\"https://github.com/billtubbs/gym-julia/tree/375727f405b9f19e8998380b17766158d7f0f148//CartPoleBTEnv.jl#L83\" target=\"_blank\">/Users/billtubbs/cartpole/CartPoleBTEnv.jl:83</a></li> <li> CartPole(gravity::<b>Float64</b>, masscart::<b>Float64</b>, masspole::<b>Float64</b>, length::<b>Float64</b>, friction::<b>Float64</b>, max_force::<b>Float64</b>, goal_state::<b>Array</b>, initial_state::<b>String</b>, disturbances::<b>String</b>, initial_state_variance::<b>String</b>, measurement_error::<b>String</b>, hidden_states::<b>Bool</b>, variance_levels::<b>Dict</b>, tau::<b>Float64</b>, n_steps::<b>Int64</b>, time_step::<b>Int64</b>, kinematics_integrator::<b>String</b>, observation_space::<b>Array</b>, action_space::<b>Array</b>, seed::<b>Int64</b>, state::<b>Array</b>) in Main.CartPoleBTEnv at <a href=\"https://github.com/billtubbs/gym-julia/tree/375727f405b9f19e8998380b17766158d7f0f148//CartPoleBTEnv.jl#L36\" target=\"_blank\">/Users/billtubbs/cartpole/CartPoleBTEnv.jl:36</a></li> <li> CartPole(gravity, masscart, masspole, length, friction, max_force, goal_state, initial_state, disturbances, initial_state_variance, measurement_error, hidden_states, variance_levels, tau, n_steps, time_step, kinematics_integrator, observation_space, action_space, seed, state) in Main.CartPoleBTEnv at <a href=\"https://github.com/billtubbs/gym-julia/tree/375727f405b9f19e8998380b17766158d7f0f148//CartPoleBTEnv.jl#L36\" target=\"_blank\">/Users/billtubbs/cartpole/CartPoleBTEnv.jl:36</a></li> </ul>"
      ],
      "text/plain": [
       "# 3 methods for generic function \"(::Type)\":\n",
       "[1] CartPole(; gravity, masscart, masspole, length, friction, max_force, goal_state, initial_state, disturbances, initial_state_variance, measurement_error, hidden_states, variance_levels, tau, n_steps, time_step, kinematics_integrator, observation_space, action_space, seed, state) in Main.CartPoleBTEnv at /Users/billtubbs/cartpole/CartPoleBTEnv.jl:83\n",
       "[2] CartPole(gravity::Float64, masscart::Float64, masspole::Float64, length::Float64, friction::Float64, max_force::Float64, goal_state::Array, initial_state::String, disturbances::String, initial_state_variance::String, measurement_error::String, hidden_states::Bool, variance_levels::Dict, tau::Float64, n_steps::Int64, time_step::Int64, kinematics_integrator::String, observation_space::Array, action_space::Array, seed::Int64, state::Array) in Main.CartPoleBTEnv at /Users/billtubbs/cartpole/CartPoleBTEnv.jl:36\n",
       "[3] CartPole(gravity, masscart, masspole, length, friction, max_force, goal_state, initial_state, disturbances, initial_state_variance, measurement_error, hidden_states, variance_levels, tau, n_steps, time_step, kinematics_integrator, observation_space, action_space, seed, state) in Main.CartPoleBTEnv at /Users/billtubbs/cartpole/CartPoleBTEnv.jl:36"
      ]
     },
     "execution_count": 12,
     "metadata": {},
     "output_type": "execute_result"
    }
   ],
   "source": [
    "methods(CartPole)"
   ]
  },
  {
   "cell_type": "code",
   "execution_count": 5,
   "metadata": {},
   "outputs": [
    {
     "data": {
      "text/plain": [
       "4-element Array{Float64,1}:\n",
       " 0.0\n",
       " 0.0\n",
       " 0.0\n",
       " 0.0"
      ]
     },
     "execution_count": 5,
     "metadata": {},
     "output_type": "execute_result"
    }
   ],
   "source": [
    "gym = CartPole()\n",
    "gym.state = zeros(4)"
   ]
  },
  {
   "cell_type": "code",
   "execution_count": 6,
   "metadata": {},
   "outputs": [
    {
     "data": {
      "text/html": [
       "7 methods for generic function <b>step</b>:<ul><li> step(S::<b>BandedMatrices.BandSlice</b>) in BandedMatrices at <a href=\"file:///Users/billtubbs/.julia/packages/BandedMatrices/xkmmD/src/generic/Band.jl\" target=\"_blank\">/Users/billtubbs/.julia/packages/BandedMatrices/xkmmD/src/generic/Band.jl:193</a></li> <li> step(r::<b>StepRange</b>) in Base at <a href=\"https://github.com/JuliaLang/julia/tree/v1.1.1/base/range.jl#L498\" target=\"_blank\">range.jl:498</a></li> <li> step<i>{T}</i>(r::<b>AbstractUnitRange{T}</b>) in Base at <a href=\"https://github.com/JuliaLang/julia/tree/v1.1.1/base/range.jl#L499\" target=\"_blank\">range.jl:499</a></li> <li> step<i>{T}</i>(r::<b>StepRangeLen{T,R,S} where S where R</b>) in Base at <a href=\"https://github.com/JuliaLang/julia/tree/v1.1.1/base/range.jl#L500\" target=\"_blank\">range.jl:500</a></li> <li> step(r::<b>LinRange</b>) in Base at <a href=\"https://github.com/JuliaLang/julia/tree/v1.1.1/base/range.jl#L501\" target=\"_blank\">range.jl:501</a></li> <li> step(a::<b>OffsetArrays.OffsetArray{T,1,#s12} where #s12<:AbstractRange{T} where T</b>) in OffsetArrays at <a href=\"file:///Users/billtubbs/.julia/packages/OffsetArrays/Z45he/src/OffsetArrays.jl\" target=\"_blank\">/Users/billtubbs/.julia/packages/OffsetArrays/Z45he/src/OffsetArrays.jl:183</a></li> <li> step(gym::<b>CartPole</b>, u) in Main.CartPoleBTEnv at <a href=\"https://github.com/billtubbs/gym-julia/tree/375727f405b9f19e8998380b17766158d7f0f148//CartPoleBTEnv.jl#L111\" target=\"_blank\">/Users/billtubbs/cartpole/CartPoleBTEnv.jl:111</a></li> </ul>"
      ],
      "text/plain": [
       "# 7 methods for generic function \"step\":\n",
       "[1] step(S::BandedMatrices.BandSlice) in BandedMatrices at /Users/billtubbs/.julia/packages/BandedMatrices/xkmmD/src/generic/Band.jl:193\n",
       "[2] step(r::StepRange) in Base at range.jl:498\n",
       "[3] step(r::AbstractUnitRange{T}) where T in Base at range.jl:499\n",
       "[4] step(r::StepRangeLen{T,R,S} where S where R) where T in Base at range.jl:500\n",
       "[5] step(r::LinRange) in Base at range.jl:501\n",
       "[6] step(a::OffsetArrays.OffsetArray{T,1,#s12} where #s12<:AbstractRange{T} where T) in OffsetArrays at /Users/billtubbs/.julia/packages/OffsetArrays/Z45he/src/OffsetArrays.jl:183\n",
       "[7] step(gym::CartPole, u) in Main.CartPoleBTEnv at /Users/billtubbs/cartpole/CartPoleBTEnv.jl:111"
      ]
     },
     "execution_count": 6,
     "metadata": {},
     "output_type": "execute_result"
    }
   ],
   "source": [
    "methods(step)"
   ]
  },
  {
   "cell_type": "markdown",
   "metadata": {},
   "source": [
    "An introduction to how functions and methods work in Julia (multiple dispatch):\n",
    "- [Think Julia, Chapter 7](https://benlauwens.github.io/ThinkJulia.jl/latest/book.html#chap17)"
   ]
  },
  {
   "cell_type": "code",
   "execution_count": 7,
   "metadata": {},
   "outputs": [
    {
     "data": {
      "text/plain": [
       "([0.0, 0.0, 0.0, 0.0], 0.0, false)"
      ]
     },
     "execution_count": 7,
     "metadata": {},
     "output_type": "execute_result"
    }
   ],
   "source": [
    "state, reward, done = step(gym, 0.0)"
   ]
  },
  {
   "cell_type": "code",
   "execution_count": 8,
   "metadata": {},
   "outputs": [
    {
     "data": {
      "text/plain": [
       "4-element Array{Float64,1}:\n",
       " 0.0\n",
       " 0.0\n",
       " 0.0\n",
       " 0.0"
      ]
     },
     "execution_count": 8,
     "metadata": {},
     "output_type": "execute_result"
    }
   ],
   "source": [
    "state"
   ]
  },
  {
   "cell_type": "code",
   "execution_count": 9,
   "metadata": {},
   "outputs": [
    {
     "data": {
      "text/plain": [
       "0.0"
      ]
     },
     "execution_count": 9,
     "metadata": {},
     "output_type": "execute_result"
    }
   ],
   "source": [
    "reward"
   ]
  },
  {
   "cell_type": "code",
   "execution_count": 10,
   "metadata": {},
   "outputs": [
    {
     "data": {
      "text/plain": [
       "false"
      ]
     },
     "execution_count": 10,
     "metadata": {},
     "output_type": "execute_result"
    }
   ],
   "source": [
    "done"
   ]
  },
  {
   "cell_type": "code",
   "execution_count": null,
   "metadata": {},
   "outputs": [],
   "source": []
  },
  {
   "cell_type": "code",
   "execution_count": null,
   "metadata": {},
   "outputs": [],
   "source": []
  },
  {
   "cell_type": "code",
   "execution_count": null,
   "metadata": {},
   "outputs": [],
   "source": []
  }
 ],
 "metadata": {
  "kernelspec": {
   "display_name": "Julia 1.1.1",
   "language": "julia",
   "name": "julia-1.1"
  },
  "language_info": {
   "file_extension": ".jl",
   "mimetype": "application/julia",
   "name": "julia",
   "version": "1.1.1"
  }
 },
 "nbformat": 4,
 "nbformat_minor": 4
}
